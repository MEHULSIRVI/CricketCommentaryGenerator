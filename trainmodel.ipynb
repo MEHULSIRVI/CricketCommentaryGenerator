{
 "cells": [
  {
   "cell_type": "code",
   "execution_count": 1,
   "metadata": {},
   "outputs": [
    {
     "data": {
      "application/vnd.jupyter.widget-view+json": {
       "model_id": "a6ee06531c18495dae3184abfb140349",
       "version_major": 2,
       "version_minor": 0
      },
      "text/plain": [
       "Generating train split: 0 examples [00:00, ? examples/s]"
      ]
     },
     "metadata": {},
     "output_type": "display_data"
    },
    {
     "name": "stderr",
     "output_type": "stream",
     "text": [
      "GPU available: False, used: False\n",
      "TPU available: False, using: 0 TPU cores\n",
      "HPU available: False, using: 0 HPUs\n"
     ]
    }
   ],
   "source": [
    "import torch\n",
    "from transformers import GPT2Tokenizer, GPT2LMHeadModel\n",
    "from datasets import load_dataset\n",
    "import pytorch_lightning as pl\n",
    "from torch.utils.data import DataLoader\n",
    "\n",
    "# Step 1: Load the GPT-2 model and tokenizer\n",
    "model_name = 'gpt2'\n",
    "tokenizer = GPT2Tokenizer.from_pretrained(model_name)\n",
    "\n",
    "# Set the padding token to eos_token (or add a new one)\n",
    "tokenizer.pad_token = tokenizer.eos_token\n",
    "# Alternatively: tokenizer.add_special_tokens({'pad_token': '[PAD]'})\n",
    "# model.resize_token_embeddings(len(tokenizer)) if using add_special_tokens\n",
    "\n",
    "# Step 2: Create a Lightning DataModule\n",
    "class TextDataModule(pl.LightningDataModule):\n",
    "    def __init__(self, train_dataset, test_dataset, tokenizer, batch_size=2, max_length=512):\n",
    "        super().__init__()\n",
    "        self.train_dataset = train_dataset\n",
    "        self.test_dataset = test_dataset\n",
    "        self.tokenizer = tokenizer\n",
    "        self.batch_size = batch_size\n",
    "        self.max_length = max_length\n",
    "\n",
    "    def setup(self, stage=None):\n",
    "        # Tokenize the dataset\n",
    "        def tokenize_function(examples):\n",
    "            input_encodings = self.tokenizer(\n",
    "                examples['input'], padding='max_length', truncation=True, max_length=self.max_length, return_tensors='pt'\n",
    "            )\n",
    "            output_encodings = self.tokenizer(\n",
    "                examples['output'], padding='max_length', truncation=True, max_length=self.max_length, return_tensors='pt'\n",
    "            )\n",
    "            # Add the labels (output IDs) to the input\n",
    "            input_encodings['labels'] = output_encodings['input_ids']\n",
    "            return input_encodings\n",
    "\n",
    "        self.train_dataset = self.train_dataset.map(tokenize_function, batched=True)\n",
    "        self.test_dataset = self.test_dataset.map(tokenize_function, batched=True)\n",
    "\n",
    "        self.train_dataset.set_format(type='torch', columns=['input_ids', 'attention_mask', 'labels'])\n",
    "        self.test_dataset.set_format(type='torch', columns=['input_ids', 'attention_mask', 'labels'])\n",
    "\n",
    "    def train_dataloader(self):\n",
    "        return DataLoader(self.train_dataset, batch_size=self.batch_size, shuffle=True)\n",
    "\n",
    "    def val_dataloader(self):\n",
    "        return DataLoader(self.test_dataset, batch_size=self.batch_size)\n",
    "\n",
    "# Step 3: Create a Lightning Module for fine-tuning GPT-2\n",
    "class GPT2FineTuner(pl.LightningModule):\n",
    "    def __init__(self, model_name='gpt2', learning_rate=2e-5):\n",
    "        super().__init__()\n",
    "        self.tokenizer = GPT2Tokenizer.from_pretrained(model_name)\n",
    "        self.model = GPT2LMHeadModel.from_pretrained(model_name)\n",
    "        self.tokenizer.pad_token = self.tokenizer.eos_token\n",
    "        self.model.resize_token_embeddings(len(self.tokenizer))\n",
    "        self.learning_rate = learning_rate\n",
    "\n",
    "    def forward(self, input_ids, attention_mask, labels=None):\n",
    "        outputs = self.model(input_ids, attention_mask=attention_mask, labels=labels)\n",
    "        return outputs\n",
    "\n",
    "    def training_step(self, batch, batch_idx):\n",
    "        outputs = self(**batch)\n",
    "        loss = outputs.loss\n",
    "        self.log('train_loss', loss, prog_bar=True, logger=True)\n",
    "        return loss\n",
    "\n",
    "    def validation_step(self, batch, batch_idx):\n",
    "        outputs = self(**batch)\n",
    "        val_loss = outputs.loss\n",
    "        self.log('val_loss', val_loss, prog_bar=True, logger=True)\n",
    "        return val_loss\n",
    "\n",
    "    def configure_optimizers(self):\n",
    "        return torch.optim.AdamW(self.parameters(), lr=self.learning_rate)\n",
    "\n",
    "# Step 4: Load the dataset\n",
    "dataset = load_dataset('csv', data_files='fine_tuning_dataset.csv')\n",
    "train_test_split = dataset['train'].train_test_split(test_size=0.2)\n",
    "train_dataset = train_test_split['train']\n",
    "test_dataset = train_test_split['test']\n",
    "\n",
    "# Step 5: Define the data module\n",
    "batch_size = 2\n",
    "data_module = TextDataModule(train_dataset, test_dataset, tokenizer=tokenizer, batch_size=batch_size)\n",
    "\n",
    "from pytorch_lightning.callbacks import ModelCheckpoint\n",
    "\n",
    "# Define a ModelCheckpoint callback to save in the specified Lightning AI directory\n",
    "checkpoint_callback = ModelCheckpoint(\n",
    "    dirpath='/teamspace/studios/this_studio/gpt2_finetuned/',  # Save model checkpoints to your studio directory\n",
    "    filename='gpt2-finetuned-{epoch:02d}-{val_loss:.2f}',\n",
    "    save_top_k=1,  # Save only the best model\n",
    "    monitor='val_loss',  # Track the validation loss\n",
    "    mode='min',  # Minimize the validation loss\n",
    "    verbose=True\n",
    ")\n",
    "\n",
    "# Step 6: Update Trainer to include the checkpoint callback\n",
    "trainer = pl.Trainer(\n",
    "    max_epochs=3,\n",
    "    accelerator='gpu' if torch.cuda.is_available() else 'cpu',\n",
    "    devices=1,\n",
    "    default_root_dir='/teamspace/studios/this_studio/gpt2_finetuned/',  # Set the default root dir to your studio path\n",
    "    callbacks=[checkpoint_callback],  # Add the checkpoint callback here\n",
    "    log_every_n_steps=10,\n",
    ")\n",
    "\n"
   ]
  },
  {
   "cell_type": "code",
   "execution_count": 2,
   "metadata": {},
   "outputs": [
    {
     "name": "stderr",
     "output_type": "stream",
     "text": [
      "You are using a CUDA device ('NVIDIA L4') that has Tensor Cores. To properly utilize them, you should set `torch.set_float32_matmul_precision('medium' | 'high')` which will trade-off precision for performance. For more details, read https://pytorch.org/docs/stable/generated/torch.set_float32_matmul_precision.html#torch.set_float32_matmul_precision\n"
     ]
    },
    {
     "data": {
      "application/vnd.jupyter.widget-view+json": {
       "model_id": "f5646a536c2441c5bc11946db57af421",
       "version_major": 2,
       "version_minor": 0
      },
      "text/plain": [
       "Map:   0%|          | 0/8762 [00:00<?, ? examples/s]"
      ]
     },
     "metadata": {},
     "output_type": "display_data"
    },
    {
     "data": {
      "application/vnd.jupyter.widget-view+json": {
       "model_id": "6d1e88647ef5497bbbb6a51eb57fb776",
       "version_major": 2,
       "version_minor": 0
      },
      "text/plain": [
       "Map:   0%|          | 0/2191 [00:00<?, ? examples/s]"
      ]
     },
     "metadata": {},
     "output_type": "display_data"
    },
    {
     "name": "stderr",
     "output_type": "stream",
     "text": [
      "/home/zeus/miniconda3/envs/cloudspace/lib/python3.10/site-packages/pytorch_lightning/callbacks/model_checkpoint.py:654: Checkpoint directory /teamspace/studios/this_studio/gpt2_finetuned exists and is not empty.\n",
      "LOCAL_RANK: 0 - CUDA_VISIBLE_DEVICES: [0]\n",
      "\n",
      "  | Name  | Type            | Params | Mode\n",
      "-------------------------------------------------\n",
      "0 | model | GPT2LMHeadModel | 124 M  | eval\n",
      "-------------------------------------------------\n",
      "124 M     Trainable params\n",
      "0         Non-trainable params\n",
      "124 M     Total params\n",
      "497.759   Total estimated model params size (MB)\n",
      "0         Modules in train mode\n",
      "164       Modules in eval mode\n"
     ]
    },
    {
     "data": {
      "application/vnd.jupyter.widget-view+json": {
       "model_id": "5521d4baf8484077b44068e35a1f1e06",
       "version_major": 2,
       "version_minor": 0
      },
      "text/plain": [
       "Sanity Checking: |          | 0/? [00:00<?, ?it/s]"
      ]
     },
     "metadata": {},
     "output_type": "display_data"
    },
    {
     "name": "stderr",
     "output_type": "stream",
     "text": [
      "/home/zeus/miniconda3/envs/cloudspace/lib/python3.10/site-packages/pytorch_lightning/trainer/connectors/data_connector.py:424: The 'val_dataloader' does not have many workers which may be a bottleneck. Consider increasing the value of the `num_workers` argument` to `num_workers=15` in the `DataLoader` to improve performance.\n",
      "/home/zeus/miniconda3/envs/cloudspace/lib/python3.10/site-packages/pytorch_lightning/trainer/connectors/data_connector.py:424: The 'train_dataloader' does not have many workers which may be a bottleneck. Consider increasing the value of the `num_workers` argument` to `num_workers=15` in the `DataLoader` to improve performance.\n"
     ]
    },
    {
     "data": {
      "application/vnd.jupyter.widget-view+json": {
       "model_id": "25ff9c87dbfe488a881c84a63ae7d45a",
       "version_major": 2,
       "version_minor": 0
      },
      "text/plain": [
       "Training: |          | 0/? [00:00<?, ?it/s]"
      ]
     },
     "metadata": {},
     "output_type": "display_data"
    },
    {
     "data": {
      "application/vnd.jupyter.widget-view+json": {
       "model_id": "bac6e6e29ed54adcbb60a7eb7e9afd56",
       "version_major": 2,
       "version_minor": 0
      },
      "text/plain": [
       "Validation: |          | 0/? [00:00<?, ?it/s]"
      ]
     },
     "metadata": {},
     "output_type": "display_data"
    },
    {
     "name": "stderr",
     "output_type": "stream",
     "text": [
      "Epoch 0, global step 4381: 'val_loss' reached 0.79960 (best 0.79960), saving model to '/teamspace/studios/this_studio/gpt2_finetuned/gpt2-finetuned-epoch=00-val_loss=0.80.ckpt' as top 1\n"
     ]
    },
    {
     "data": {
      "application/vnd.jupyter.widget-view+json": {
       "model_id": "21f12d34451644c3af47e12371554af7",
       "version_major": 2,
       "version_minor": 0
      },
      "text/plain": [
       "Validation: |          | 0/? [00:00<?, ?it/s]"
      ]
     },
     "metadata": {},
     "output_type": "display_data"
    },
    {
     "name": "stderr",
     "output_type": "stream",
     "text": [
      "Epoch 1, global step 8762: 'val_loss' reached 0.78613 (best 0.78613), saving model to '/teamspace/studios/this_studio/gpt2_finetuned/gpt2-finetuned-epoch=01-val_loss=0.79.ckpt' as top 1\n"
     ]
    },
    {
     "data": {
      "application/vnd.jupyter.widget-view+json": {
       "model_id": "1ac6ed77940c472285f48bde7ea1b1e6",
       "version_major": 2,
       "version_minor": 0
      },
      "text/plain": [
       "Validation: |          | 0/? [00:00<?, ?it/s]"
      ]
     },
     "metadata": {},
     "output_type": "display_data"
    },
    {
     "name": "stderr",
     "output_type": "stream",
     "text": [
      "Epoch 2, global step 13143: 'val_loss' reached 0.78220 (best 0.78220), saving model to '/teamspace/studios/this_studio/gpt2_finetuned/gpt2-finetuned-epoch=02-val_loss=0.78.ckpt' as top 1\n",
      "`Trainer.fit` stopped: `max_epochs=3` reached.\n"
     ]
    }
   ],
   "source": [
    "# Step 7: Train the model\n",
    "model = GPT2FineTuner()\n",
    "trainer.fit(model, datamodule=data_module)"
   ]
  },
  {
   "cell_type": "code",
   "execution_count": 3,
   "metadata": {},
   "outputs": [],
   "source": [
    "trained_model = GPT2FineTuner.load_from_checkpoint('/teamspace/studios/this_studio/gpt2_finetuned/gpt2-finetuned-epoch=02-val_loss=0.78.ckpt')\n"
   ]
  },
  {
   "cell_type": "code",
   "execution_count": 5,
   "metadata": {},
   "outputs": [
    {
     "name": "stdout",
     "output_type": "stream",
     "text": [
      "Generated Output: Henriques to Kedar Jadhav, bowls a short ball outside off-stump the a onav the the. the's J was the it the and of the that and.\n"
     ]
    }
   ],
   "source": [
    "import torch\n",
    "\n",
    "# Improved input context\n",
    "input_text = \"Henriques to Kedar Jadhav, bowls a short ball outside off-stump\"\n",
    "\n",
    "# Encode the input and create the attention mask\n",
    "input_ids = trained_model.tokenizer.encode(input_text, return_tensors='pt')\n",
    "attention_mask = torch.ones(input_ids.shape, dtype=torch.long)  # All tokens are valid, no padding needed here\n",
    "\n",
    "# Generate text with adjusted parameters and sampling enabled\n",
    "output = trained_model.model.generate(\n",
    "    input_ids,\n",
    "    attention_mask=attention_mask,\n",
    "    max_length=1000,  # Generate up to 50 tokens\n",
    "    temperature=0.9,  # Control randomness in generation\n",
    "    top_k=50,  # Use top-k sampling to limit the number of considered next words\n",
    "    top_p=0.95,  # Use nucleus sampling for more coherent results\n",
    "    pad_token_id=trained_model.tokenizer.pad_token_id,\n",
    "    do_sample=True,  # Enable sampling for text generation\n",
    ")\n",
    "\n",
    "# Decode and print the generated output\n",
    "generated_text = trained_model.tokenizer.decode(output[0], skip_special_tokens=True)\n",
    "print(f\"Generated Output: {generated_text}\")\n"
   ]
  }
 ],
 "metadata": {
  "language_info": {
   "name": "python"
  }
 },
 "nbformat": 4,
 "nbformat_minor": 2
}
